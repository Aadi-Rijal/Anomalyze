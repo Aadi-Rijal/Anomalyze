{
 "cells": [
  {
   "cell_type": "markdown",
   "id": "958a8aa4",
   "metadata": {},
   "source": [
    "### Generate Random Dataset"
   ]
  },
  {
   "cell_type": "code",
   "execution_count": 1,
   "id": "c3021f7a",
   "metadata": {},
   "outputs": [],
   "source": [
    "import pandas as pd\n",
    "from sklearn.datasets import make_classification"
   ]
  },
  {
   "cell_type": "code",
   "execution_count": 2,
   "id": "61e91718",
   "metadata": {},
   "outputs": [
    {
     "name": "stdout",
     "output_type": "stream",
     "text": [
      "   feature_0  feature_1  feature_2  feature_3  feature_4  feature_5  \\\n",
      "0   0.342106   1.881539   2.279653  -0.848153   1.917259   1.608363   \n",
      "1   0.057864  -0.668963  -0.557796  -1.759497  -0.265593  -2.418103   \n",
      "2  -0.715513  -0.217041  -0.658529  -0.894018   1.121499  -2.233489   \n",
      "3  -0.143660   1.784894  -0.114805  -0.748890  -0.165081  -2.181948   \n",
      "4   0.165240  -0.072079   0.988434  -1.454180   0.012522  -2.480565   \n",
      "5  -0.432295  -0.179989  -3.422354  -1.282937   1.272715  -1.663167   \n",
      "6  -0.929136  -0.587044  -1.387926  -1.147817  -1.134020  -1.517007   \n",
      "7   1.083000   1.112442   1.189773  -1.494011  -1.076381  -1.109834   \n",
      "8   2.337828   0.337494  -1.947356  -1.412170  -0.860757  -0.955628   \n",
      "9   1.416412   1.016696   0.895345   0.449392   0.773240  -1.544849   \n",
      "\n",
      "   feature_6  feature_7  feature_8  feature_9  \n",
      "0  -2.430795   2.275756   0.269796   0.041784  \n",
      "1  -1.352909   1.791205   2.842525   1.755104  \n",
      "2   0.320325   0.203804   1.877039   1.512151  \n",
      "3  -2.105435   0.091462   4.451414   1.335035  \n",
      "4   1.150033   1.273607   0.535853   1.399034  \n",
      "5   0.067682  -0.941434   3.112811   3.509535  \n",
      "6  -2.092438   0.982409   3.129780   1.288934  \n",
      "7  -2.172482   1.655957   2.003924   0.470436  \n",
      "8   0.571677  -0.543108   1.357220   2.802062  \n",
      "9   1.019473   0.673348   2.218649   1.959382  \n"
     ]
    }
   ],
   "source": [
    "X, y = make_classification(\n",
    "    n_samples=1000,\n",
    "    n_features=10,\n",
    "    n_informative=6,\n",
    "    n_redundant=2,\n",
    "    n_clusters_per_class=1,\n",
    "    weights=[1 - 0.1],\n",
    "    flip_y=0,\n",
    "    random_state=42)\n",
    "\n",
    "X= pd.DataFrame(X, columns=[f'feature_{i}' for i in range(X.shape[1])])\n",
    "print(X.head(10))"
   ]
  },
  {
   "cell_type": "markdown",
   "id": "4ab7e9fa",
   "metadata": {},
   "source": [
    "### Comparing Isolation Forest Model"
   ]
  },
  {
   "cell_type": "code",
   "execution_count": 3,
   "id": "6002bff2",
   "metadata": {},
   "outputs": [],
   "source": [
    "from sklearn.ensemble import IsolationForest as skIsolationForest\n",
    "\n",
    "import sys\n",
    "import os\n",
    "\n",
    "sys.path.append(os.path.abspath(\"../code\"))\n",
    "\n",
    "from IsolationForest import IsolationForest as myIsolationForest"
   ]
  },
  {
   "cell_type": "code",
   "execution_count": 4,
   "id": "bc3e5eb4",
   "metadata": {},
   "outputs": [],
   "source": [
    "# Load models\n",
    "sk_model = skIsolationForest(contamination=0.1, random_state=42)\n",
    "my_model= myIsolationForest(contamination=0.1, random_state= 42)"
   ]
  },
  {
   "cell_type": "code",
   "execution_count": 5,
   "id": "2b0eeaf0",
   "metadata": {},
   "outputs": [],
   "source": [
    "# Evaluate Function\n",
    "import time\n",
    "import numpy as np\n",
    "from sklearn.metrics import classification_report, roc_auc_score, precision_recall_curve, auc\n",
    "\n",
    "def evaluate_model(model, X, y_true, model_name=\"Model\"):\n",
    "    start = time.time()\n",
    "    model.fit(X)\n",
    "    end = time.time()\n",
    "    \n",
    "    scores = -model.decision_function(X)\n",
    "    #print(scores)\n",
    "    \n",
    "    y_pred = model.predict(X)\n",
    "    #print(y_pred, y_true)\n",
    "    y_pred = np.where(y_pred == -1, 1, 0)\n",
    "\n",
    "    print(f\"\\n--- {model_name} ---\")\n",
    "    print(f\"Execution Time: {end - start:.4f} seconds\")\n",
    "    print(classification_report(y_true, y_pred, digits=4))\n",
    "    \n",
    "    roc = roc_auc_score(y_true, scores)\n",
    "    precision, recall, _ = precision_recall_curve(y_true, scores)\n",
    "    pr_auc = auc(recall, precision)\n",
    "    print(f\"ROC-AUC: {roc:.4f}\")\n",
    "    print(f\"PR-AUC: {pr_auc:.4f}\")"
   ]
  },
  {
   "cell_type": "code",
   "execution_count": 6,
   "id": "a07db124",
   "metadata": {},
   "outputs": [
    {
     "name": "stdout",
     "output_type": "stream",
     "text": [
      "\n",
      "--- Sklearn Isolation Forest ---\n",
      "Execution Time: 0.1262 seconds\n",
      "              precision    recall  f1-score   support\n",
      "\n",
      "           0     0.9511    0.9501    0.9506       901\n",
      "           1     0.5500    0.5556    0.5528        99\n",
      "\n",
      "    accuracy                         0.9110      1000\n",
      "   macro avg     0.7506    0.7528    0.7517      1000\n",
      "weighted avg     0.9114    0.9110    0.9112      1000\n",
      "\n",
      "ROC-AUC: 0.8519\n",
      "PR-AUC: 0.5435\n",
      "\n",
      "--- Custom Isolation Forest ---\n",
      "Execution Time: 0.3924 seconds\n",
      "              precision    recall  f1-score   support\n",
      "\n",
      "           0     0.9489    0.9478    0.9484       901\n",
      "           1     0.5300    0.5354    0.5327        99\n",
      "\n",
      "    accuracy                         0.9070      1000\n",
      "   macro avg     0.7394    0.7416    0.7405      1000\n",
      "weighted avg     0.9074    0.9070    0.9072      1000\n",
      "\n",
      "ROC-AUC: 0.8535\n",
      "PR-AUC: 0.5381\n"
     ]
    }
   ],
   "source": [
    "# Compare\n",
    "evaluate_model(sk_model, X, y, \"Sklearn Isolation Forest\")\n",
    "evaluate_model(my_model, X, y, \"Custom Isolation Forest\")"
   ]
  }
 ],
 "metadata": {
  "kernelspec": {
   "display_name": "env",
   "language": "python",
   "name": "python3"
  },
  "language_info": {
   "codemirror_mode": {
    "name": "ipython",
    "version": 3
   },
   "file_extension": ".py",
   "mimetype": "text/x-python",
   "name": "python",
   "nbconvert_exporter": "python",
   "pygments_lexer": "ipython3",
   "version": "3.13.5"
  }
 },
 "nbformat": 4,
 "nbformat_minor": 5
}
